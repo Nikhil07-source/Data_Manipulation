{
  "cells": [
    {
      "cell_type": "markdown",
      "metadata": {
        "id": "view-in-github",
        "colab_type": "text"
      },
      "source": [
        "<a href=\"https://colab.research.google.com/github/Nikhil07-source/Nikhil07-source/blob/main/NumPy.ipynb\" target=\"_parent\"><img src=\"https://colab.research.google.com/assets/colab-badge.svg\" alt=\"Open In Colab\"/></a>"
      ]
    },
    {
      "cell_type": "markdown",
      "source": [
        "# __NumPy Introduction__\n",
        "\n",
        "##1. __Fundamentals of NumPy__\n",
        "\n",
        "NumPy (Numerical Python) is a free and open-source library that is mostly used for mathematical operations in scientific and engineering applications.\n",
        "\n",
        "- It is a Python library used for working with arrays.\n",
        "- It consists of a multidimensional array of objects and a collection of functions for manipulating them.\n",
        "- It conducts mathematical and logical operations on arrays.\n",
        "\n",
        "**Note:** The array object in NumPy is called ndarray."
      ],
      "metadata": {
        "id": "QPJvtdQ6L7p-"
      }
    },
    {
      "cell_type": "markdown",
      "source": [
        "### __1.1  Advantages of NumPy__\n",
        "- It provides an array object that is faster than traditional Python lists.\n",
        "- It provides supporting functions.\n",
        "- Arrays are frequently used in data science.\n",
        "- NumPy arrays are stored in one continuous place in memory, unlike lists."
      ],
      "metadata": {
        "id": "gvvco78wMtrb"
      }
    },
    {
      "cell_type": "markdown",
      "source": [
        "## __2. NumPy: Array Object__\n",
        "A NumPy ndarray object can be created by using the array() function."
      ],
      "metadata": {
        "id": "8oqMp5KdM51b"
      }
    },
    {
      "cell_type": "code",
      "source": [
        "# Example:\n",
        "import numpy as np\n",
        "arr = np.array ([10,20,30,40,50])\n",
        "print (arr)\n",
        "print (type(arr))"
      ],
      "metadata": {
        "colab": {
          "base_uri": "https://localhost:8080/"
        },
        "id": "axNWl9euM8zD",
        "outputId": "df30e957-7deb-492c-cad1-da65f63d7101"
      },
      "execution_count": null,
      "outputs": [
        {
          "output_type": "stream",
          "name": "stdout",
          "text": [
            "[10 20 30 40 50]\n",
            "<class 'numpy.ndarray'>\n"
          ]
        }
      ]
    },
    {
      "cell_type": "markdown",
      "source": [
        "### __2.1 Creating NumPy Arrays__\n",
        "- Create multiple dimensional arrays, such as 0D, 1D, 2D and 3D"
      ],
      "metadata": {
        "id": "3HdZLzZiNE2Q"
      }
    },
    {
      "cell_type": "code",
      "source": [
        "# Create a 0D Array\n",
        "arr0 = np.array(24)\n",
        "print ('0D array is', arr0)\n",
        "# Create a 1D Array\n",
        "arr1 = np.array([1,2,3,4])\n",
        "print ('1D array is', arr1)\n",
        "# Create a 2D Array\n",
        "arr2 = np.array([[1,1,1],[1,2,1]])\n",
        "print ('2D array is', arr2)\n",
        "# Create a 3D Array\n",
        "arr3 = np.array([[[1,1,1],[2,2,2]],[[3,3,3],[4,4,4]]])\n",
        "print ('3D array is', arr3)"
      ],
      "metadata": {
        "colab": {
          "base_uri": "https://localhost:8080/"
        },
        "id": "gTwCdx78NGYp",
        "outputId": "8a258c0c-22ec-4f01-93ac-be7c1d7c8651"
      },
      "execution_count": null,
      "outputs": [
        {
          "output_type": "stream",
          "name": "stdout",
          "text": [
            "0D array is 24\n",
            "1D array is [1 2 3 4]\n",
            "2D array is [[1 1 1]\n",
            " [1 2 1]]\n",
            "3D array is [[[1 1 1]\n",
            "  [2 2 2]]\n",
            "\n",
            " [[3 3 3]\n",
            "  [4 4 4]]]\n"
          ]
        }
      ]
    },
    {
      "cell_type": "markdown",
      "source": [
        "# __Attributes and Functions in Python__\n",
        "\n",
        "## __1. Attributes of NumPy Arrays__ ##\n",
        "\n",
        "Few common attributes of NumPy array:\n",
        "- ndarray.ndim (To get the dimesion of array)\n",
        "- ndarray.shape (To get the shape of array)\n",
        "- ndarray.size (To het the size of array)\n",
        "- ndarray.type (To get the type of array)\n",
        "- ndarray.itemsize (To get the size of items in array)\n",
        "- ndarray.data (To get data about array)"
      ],
      "metadata": {
        "id": "BwDPCcJjNVU7"
      }
    },
    {
      "cell_type": "code",
      "source": [
        "import numpy as np\n",
        "\n",
        "age = np.array([20,22,24]) #Creating 1d array\n",
        "print('Following array is:', age)\n",
        "\n",
        "#Attributes of Array\n",
        "print('The datatype of above figure is:', type(age)) #Datatype of the array\n",
        "print('The dimension of above array is:', age.ndim)  #Dimension of the array\n",
        "print('The shape of above array is:', age.shape)     #Shape of the array\n",
        "print('The size of above array is:', age.size)       #Size of the array\n",
        "print('The length of above array is:', age.itemsize) #Length of the array\n",
        "print('The size of above array is:', age.data)       #Size of the array"
      ],
      "metadata": {
        "colab": {
          "base_uri": "https://localhost:8080/"
        },
        "id": "ytfwog9nNV0I",
        "outputId": "58be235e-37d0-4421-cfd6-0ef74bcc5339"
      },
      "execution_count": null,
      "outputs": [
        {
          "output_type": "stream",
          "name": "stdout",
          "text": [
            "Following array is: [20 22 24]\n",
            "The datatype of above figure is: <class 'numpy.ndarray'>\n",
            "The dimension of above array is: 1\n",
            "The shape of above array is: (3,)\n",
            "The size of above array is: 3\n",
            "The length of above array is: 8\n",
            "The size of above array is: <memory at 0x7caba9714b80>\n"
          ]
        }
      ]
    },
    {
      "cell_type": "code",
      "source": [
        "arr2  =np.array([[12,21,54],[45,45,98]]) #Creating 2d Array\n",
        "print('Following array is:', arr2)\n",
        "\n",
        "#Attributes of Array\n",
        "print('The datatype of above array is:', type(arr2))  #Datatype of the array\n",
        "print('The dimension of above array is:', arr2.ndim)  #Dimension of the array\n",
        "print('The shape of above array is:', arr2.shape)     #Shape of the array\n",
        "print('The size of above array is:', arr2.size)       #Size of the array\n",
        "print('The length of above array is:', arr2.itemsize) #Length of the array\n",
        "print('The size of above array is:', arr2.data)       #Size of the array"
      ],
      "metadata": {
        "colab": {
          "base_uri": "https://localhost:8080/"
        },
        "id": "aA9oud_zOFka",
        "outputId": "c1ebe6e0-c6ee-43a9-c196-6eb055c6914b"
      },
      "execution_count": null,
      "outputs": [
        {
          "output_type": "stream",
          "name": "stdout",
          "text": [
            "Following array is: [[12 21 54]\n",
            " [45 45 98]]\n",
            "The datatype of above array is: <class 'numpy.ndarray'>\n",
            "The dimension of above array is: 2\n",
            "The shape of above array is: (2, 3)\n",
            "The size of above array is: 6\n",
            "The length of above array is: 8\n",
            "The size of above array is: <memory at 0x7caba9874110>\n"
          ]
        }
      ]
    },
    {
      "cell_type": "code",
      "source": [
        "arr3 = np.array([[[1,2,3],[4,5,6]],[[7,8,9],[10,11,12]]]) #Creating 3d Array\n",
        "print('The following array is:', arr3)\n",
        "\n",
        "#Attributes of Array\n",
        "print('The datataype of above array is:', type(arr3))  #Datatype of the array\n",
        "print('The dimension of above array is:', arr3.ndim)   #Dimension of the array\n",
        "print('The shape of above array is:', arr3.shape)      #Shape of the array\n",
        "print('The size of above array is:', arr3.size)        #Size of the array\n",
        "print('The length of above array is:', arr3.itemsize)  #Length of the array\n",
        "print('The size of above array is:', arr3.data)        #Size of the array"
      ],
      "metadata": {
        "colab": {
          "base_uri": "https://localhost:8080/"
        },
        "id": "Df1TpyeiOUbr",
        "outputId": "3c6481c3-fa32-48fd-9615-73d3779c0323"
      },
      "execution_count": null,
      "outputs": [
        {
          "output_type": "stream",
          "name": "stdout",
          "text": [
            "The following array is: [[[ 1  2  3]\n",
            "  [ 4  5  6]]\n",
            "\n",
            " [[ 7  8  9]\n",
            "  [10 11 12]]]\n",
            "The datataype of above array is: <class 'numpy.ndarray'>\n",
            "The dimension of above array is: 3\n",
            "The shape of above array is: (2, 2, 3)\n",
            "The size of above array is: 12\n",
            "The length of above array is: 8\n",
            "The size of above array is: <memory at 0x7caba9c32d40>\n"
          ]
        }
      ]
    },
    {
      "cell_type": "code",
      "source": [
        "#Creating 4d array\n",
        "arr4 = np.array([[[[1, 2, 3], [4, 5, 6]], [[7, 8, 9], [10, 11, 12]], [[13, 14, 15], [16, 17, 18]]], [[[19, 20, 21], [22, 23, 24]], [[25, 26, 27], [28, 29, 30]], [[31, 32, 33], [34, 35, 36]]]])\n",
        "\n",
        "#Attributes of Array\n",
        "print('The datataype of above array is:', type(arr4))  #Datatype of the array\n",
        "print('The dimension of above array is:', arr4.ndim)   #Dimension of the array\n",
        "print('The shape of above array is:', arr4.shape)      #Shape of the array\n",
        "print('The size of above array is:', arr4.size)        #Size of the array\n",
        "print('The length of above array is:', arr4.itemsize)  #Length of the array\n",
        "print('The size of above array is:', arr4.data)        #Size of the array"
      ],
      "metadata": {
        "colab": {
          "base_uri": "https://localhost:8080/"
        },
        "id": "rQQEWN7VOZic",
        "outputId": "6a5f5557-219d-4c41-a86f-f558d5387c7d"
      },
      "execution_count": null,
      "outputs": [
        {
          "output_type": "stream",
          "name": "stdout",
          "text": [
            "The datataype of above array is: <class 'numpy.ndarray'>\n",
            "The dimension of above array is: 4\n",
            "The shape of above array is: (2, 3, 2, 3)\n",
            "The size of above array is: 36\n",
            "The length of above array is: 8\n",
            "The size of above array is: <memory at 0x7caba9c22540>\n"
          ]
        }
      ]
    },
    {
      "cell_type": "markdown",
      "source": [
        "## __2. NumPy Array Functions__ ##\n",
        "\n",
        "\n",
        "- `ndarray.reshape`: It is used to reshape (new shape) the current elements of an array."
      ],
      "metadata": {
        "id": "WSFK-owbO4Fw"
      }
    },
    {
      "cell_type": "markdown",
      "source": [
        "##__NUMPY ARRAY FUNCTIONS__\n",
        "\n",
        "###1. Reshape - It is used to reshape (new shape) the current elements of an array. To use this function we have to use \"variable_name.reshape()\". Inside \"()\" we can put value which we want to reshape.\n",
        "\n",
        "###2. Flatten - It returns a copy of the array flattened into a 1D array. To use this function we have to use \".flatten()\".\n",
        "\n",
        "###3. Transpose - It swaps the rows and columns of a 2D array.To use this function we have to use \".transpose()\"."
      ],
      "metadata": {
        "id": "kxAxiHOPO_ZO"
      }
    },
    {
      "cell_type": "code",
      "source": [
        "arr3 = np.array([[[10,20,30],[40,50,60]],[[70,80,90],[100,110,120]]])\n",
        "print(arr3)\n",
        "print('The shape of above array is:', arr3.shape)  #Shape of the array\n",
        "\n",
        "#Now the size of above array is going to change by using reshape function.\n",
        "new_arr3 = arr3.reshape(3,2,2)    #Shape of the array has been changed to (2,2,3) to (3,2,2)\n",
        "print(new_arr3)\n",
        "print('Now the shape of above array is:', new_arr3.shape)"
      ],
      "metadata": {
        "colab": {
          "base_uri": "https://localhost:8080/"
        },
        "id": "AYIz317kO_3m",
        "outputId": "dd397d92-b1e1-4879-d13f-45204ce1a90b"
      },
      "execution_count": null,
      "outputs": [
        {
          "output_type": "stream",
          "name": "stdout",
          "text": [
            "[[[ 10  20  30]\n",
            "  [ 40  50  60]]\n",
            "\n",
            " [[ 70  80  90]\n",
            "  [100 110 120]]]\n",
            "The shape of above array is: (2, 2, 3)\n",
            "[[[ 10  20]\n",
            "  [ 30  40]]\n",
            "\n",
            " [[ 50  60]\n",
            "  [ 70  80]]\n",
            "\n",
            " [[ 90 100]\n",
            "  [110 120]]]\n",
            "Now the shape of above array is: (3, 2, 2)\n"
          ]
        }
      ]
    },
    {
      "cell_type": "code",
      "source": [
        "arr3d = np.array([[[10,20,30],[40,50,60]],[[70,80,90],[100,110,120]]])\n",
        "print(arr3d)\n",
        "\n",
        "#Now this 3d array is being converted into 1D array using flatten function\n",
        "arr3d.flatten()"
      ],
      "metadata": {
        "colab": {
          "base_uri": "https://localhost:8080/"
        },
        "id": "R5m3pcGHPVHt",
        "outputId": "0e174e6e-b56e-4aed-a1e3-31564eebf35e"
      },
      "execution_count": null,
      "outputs": [
        {
          "output_type": "stream",
          "name": "stdout",
          "text": [
            "[[[ 10  20  30]\n",
            "  [ 40  50  60]]\n",
            "\n",
            " [[ 70  80  90]\n",
            "  [100 110 120]]]\n"
          ]
        },
        {
          "output_type": "execute_result",
          "data": {
            "text/plain": [
              "array([ 10,  20,  30,  40,  50,  60,  70,  80,  90, 100, 110, 120])"
            ]
          },
          "metadata": {},
          "execution_count": 11
        }
      ]
    },
    {
      "cell_type": "code",
      "source": [
        "# Let's create a 2D array for the transpose example\n",
        "arr2D = np.array([[1, 2, 3], [4, 5, 6]])\n",
        "\n",
        "# Transposing the 2D array\n",
        "transposed_array = arr2D.transpose()\n",
        "transposed_array"
      ],
      "metadata": {
        "colab": {
          "base_uri": "https://localhost:8080/"
        },
        "id": "GxwQLmn6PXXN",
        "outputId": "9da6acb4-ee57-48aa-8edb-1d459aca6cc9"
      },
      "execution_count": null,
      "outputs": [
        {
          "output_type": "execute_result",
          "data": {
            "text/plain": [
              "array([[1, 4],\n",
              "       [2, 5],\n",
              "       [3, 6]])"
            ]
          },
          "metadata": {},
          "execution_count": 12
        }
      ]
    },
    {
      "cell_type": "markdown",
      "source": [
        "##NUMPY ARITHMETIC STATISTICAL AND STRING FUNCTIONS\n",
        "###1. Airthmetic Operations - Addition, Substraction, Multiplication, Divison, PowerOf\n",
        "###2. Statistical Operations - Mean, Median, Standard Deviation, Variance & Percentile"
      ],
      "metadata": {
        "id": "UE_gfxezPdIk"
      }
    },
    {
      "cell_type": "code",
      "source": [
        "arr1 = np.array([10,20,30])\n",
        "arr2 = np.array([40,50,60])\n",
        "\n",
        "add = np.add(arr1,arr2)     #Adding of two array using add function.\n",
        "add"
      ],
      "metadata": {
        "colab": {
          "base_uri": "https://localhost:8080/"
        },
        "id": "rKlMDO05Pfva",
        "outputId": "e4815b18-afd5-4bf4-e108-ae63573dea75"
      },
      "execution_count": null,
      "outputs": [
        {
          "output_type": "execute_result",
          "data": {
            "text/plain": [
              "array([50, 70, 90])"
            ]
          },
          "metadata": {},
          "execution_count": 13
        }
      ]
    },
    {
      "cell_type": "code",
      "source": [
        "num1 = np.array([50,40,30])\n",
        "num2 = np.array([10,10,10])\n",
        "\n",
        "subs = np.subtract(num1,num2)   #Subtraction of two array using substract function.\n",
        "subs"
      ],
      "metadata": {
        "colab": {
          "base_uri": "https://localhost:8080/"
        },
        "id": "TrrSIrLLPlvV",
        "outputId": "33cef8e8-c4f0-4530-c82f-8cfa1038bfe1"
      },
      "execution_count": null,
      "outputs": [
        {
          "output_type": "execute_result",
          "data": {
            "text/plain": [
              "array([40, 30, 20])"
            ]
          },
          "metadata": {},
          "execution_count": 14
        }
      ]
    },
    {
      "cell_type": "code",
      "source": [
        "no1 = np.array([20,40,60])\n",
        "no2 = np.array([2,4,6])\n",
        "\n",
        "mul = np.multiply(no1,no2)  #Multiplication of two array using multiply function.\n",
        "mul"
      ],
      "metadata": {
        "colab": {
          "base_uri": "https://localhost:8080/"
        },
        "id": "9yVU9_c_PnWN",
        "outputId": "c18f60e9-0461-41b2-b822-6c0ffaf0fa92"
      },
      "execution_count": null,
      "outputs": [
        {
          "output_type": "execute_result",
          "data": {
            "text/plain": [
              "array([ 40, 160, 360])"
            ]
          },
          "metadata": {},
          "execution_count": 15
        }
      ]
    },
    {
      "cell_type": "code",
      "source": [
        "number1 = np.array([20,40,60])\n",
        "number2 = np.array([2,4,6])\n",
        "\n",
        "div = np.divide(number1,number2) #Divison of two array using divison function.\n",
        "div"
      ],
      "metadata": {
        "colab": {
          "base_uri": "https://localhost:8080/"
        },
        "id": "E-ra7hNrPooR",
        "outputId": "8a51c0e1-8c8c-4a7e-abed-c3813e870409"
      },
      "execution_count": null,
      "outputs": [
        {
          "output_type": "execute_result",
          "data": {
            "text/plain": [
              "array([10., 10., 10.])"
            ]
          },
          "metadata": {},
          "execution_count": 16
        }
      ]
    },
    {
      "cell_type": "code",
      "source": [
        "a = np.array([2,3,4])\n",
        "b = np.array([20,30,40])\n",
        "\n",
        "c = np.power(b,a)\n",
        "c"
      ],
      "metadata": {
        "colab": {
          "base_uri": "https://localhost:8080/"
        },
        "id": "OEL2r1jwPqs0",
        "outputId": "0b32a285-9a3f-4a43-a86e-a3f3a9ec179b"
      },
      "execution_count": null,
      "outputs": [
        {
          "output_type": "execute_result",
          "data": {
            "text/plain": [
              "array([    400,   27000, 2560000])"
            ]
          },
          "metadata": {},
          "execution_count": 17
        }
      ]
    },
    {
      "cell_type": "markdown",
      "source": [
        "##STATISTICAL FUNCTIONS USING NUMPY\n",
        "###1. Mean = Average (sum of all outcomes/number of outcomes)\n",
        "###2. Median = If data is in odd then sort all data in ascending order and then middle value. If even then select two numbers from middle add them and then divide by 2\n",
        "###3. Variance =\n",
        "###4. Standard Deviation =\n",
        "###5. Percentile = The `np.percentile()` function is used to compute the nth percentile of the array elements."
      ],
      "metadata": {
        "id": "bE638LNLPx7p"
      }
    },
    {
      "cell_type": "code",
      "source": [
        "data = np.array([21,32,54,21,87])\n",
        "np.mean(data) #Calculating Mean = Average = sum of all data/ no. of data."
      ],
      "metadata": {
        "colab": {
          "base_uri": "https://localhost:8080/"
        },
        "id": "61f0vAkpP1I0",
        "outputId": "e48a581b-f427-4a5b-8059-bfd9877cc757"
      },
      "execution_count": null,
      "outputs": [
        {
          "output_type": "execute_result",
          "data": {
            "text/plain": [
              "43.0"
            ]
          },
          "metadata": {},
          "execution_count": 21
        }
      ]
    },
    {
      "cell_type": "code",
      "source": [
        "new_data = np.array([12,45,55,65,25,41,87,78,54,87])\n",
        "np.median(new_data) #calculating the median by using median() function."
      ],
      "metadata": {
        "colab": {
          "base_uri": "https://localhost:8080/"
        },
        "id": "v7Q90Q6IP3jB",
        "outputId": "f97a8271-71b7-4aae-c39e-b6e415ab9e64"
      },
      "execution_count": null,
      "outputs": [
        {
          "output_type": "execute_result",
          "data": {
            "text/plain": [
              "54.5"
            ]
          },
          "metadata": {},
          "execution_count": 22
        }
      ]
    },
    {
      "cell_type": "code",
      "source": [
        "np.std(new_data) #Calculating the Standard Deviation by using std() function."
      ],
      "metadata": {
        "colab": {
          "base_uri": "https://localhost:8080/"
        },
        "id": "xYIJjbwnQBAn",
        "outputId": "6637803d-5e54-4c02-ca23-4add11ef372e"
      },
      "execution_count": null,
      "outputs": [
        {
          "output_type": "execute_result",
          "data": {
            "text/plain": [
              "23.92258347252654"
            ]
          },
          "metadata": {},
          "execution_count": 23
        }
      ]
    },
    {
      "cell_type": "code",
      "source": [
        "np.var(new_data) #Calculating Variance by using var() function."
      ],
      "metadata": {
        "colab": {
          "base_uri": "https://localhost:8080/"
        },
        "id": "5yvZdEYyQEC1",
        "outputId": "03e09433-289e-4d25-e320-2cdf4eee4f34"
      },
      "execution_count": null,
      "outputs": [
        {
          "output_type": "execute_result",
          "data": {
            "text/plain": [
              "572.29"
            ]
          },
          "metadata": {},
          "execution_count": 24
        }
      ]
    },
    {
      "cell_type": "code",
      "source": [
        "x = np.array([[4,6],[1,9]])\n",
        "np.var(x)"
      ],
      "metadata": {
        "id": "Vgpprh97XJMK",
        "outputId": "5711c1f6-bc51-4d9c-bbd7-b9b97c6460b5",
        "colab": {
          "base_uri": "https://localhost:8080/"
        }
      },
      "execution_count": null,
      "outputs": [
        {
          "output_type": "execute_result",
          "data": {
            "text/plain": [
              "8.5"
            ]
          },
          "metadata": {},
          "execution_count": 26
        }
      ]
    },
    {
      "cell_type": "code",
      "source": [
        "# Median\n",
        "array = np.array([[4,3,2],[10,1,0],[5,8,24]])\n",
        "np.median(array)\n",
        "print(np.median(array))\n",
        "# Mean\n",
        "np.mean(array)\n",
        "print(np.mean(array))\n",
        "# Standard Deviation\n",
        "np.std(array)\n",
        "print(np.std(array))\n",
        "# Variance\n",
        "np.var(array)\n",
        "print(np.var(array))"
      ],
      "metadata": {
        "id": "k0haI6ZoXPdT",
        "outputId": "60604e87-696b-44b7-dd23-8bd4d5d3ed43",
        "colab": {
          "base_uri": "https://localhost:8080/"
        }
      },
      "execution_count": null,
      "outputs": [
        {
          "output_type": "stream",
          "name": "stdout",
          "text": [
            "4.0\n",
            "6.333333333333333\n",
            "6.944222218666553\n",
            "48.22222222222222\n"
          ]
        }
      ]
    },
    {
      "cell_type": "markdown",
      "source": [
        "##3. STRING FUNCTIONS IN NUMPY\n",
        "###1. Add = Adding two strings by using char.add() function.\n",
        "###2 Replace = Replacing new string from existing string using char.replace() function.\n",
        "###3. Upper = Converts string into uppercase by using char.upper() function.\n",
        "###4. Lower = Converts string in lower case by using char.lower() function."
      ],
      "metadata": {
        "id": "QbbD2aBJXfJj"
      }
    },
    {
      "cell_type": "code",
      "source": [
        "import numpy as np\n",
        "\n",
        "name = np.array([\"Neeraj - \",\"Mukesh - \",\"Gaurav - \"])\n",
        "address = np.array([\"Old ITI\",\"Pithoragarh\",\"Gorapadao\"])\n",
        "#Adding two strings using add() function. It's important to use char.\n",
        "result = np.char.add(name,address)\n",
        "print(result)"
      ],
      "metadata": {
        "id": "s8zG-2h9Xfd9",
        "outputId": "ab909f94-1a46-467e-be6a-4b79743f7418",
        "colab": {
          "base_uri": "https://localhost:8080/"
        }
      },
      "execution_count": null,
      "outputs": [
        {
          "output_type": "stream",
          "name": "stdout",
          "text": [
            "['Neeraj - Old ITI' 'Mukesh - Pithoragarh' 'Gaurav - Gorapadao']\n"
          ]
        }
      ]
    },
    {
      "cell_type": "code",
      "source": [
        "x = np.array(['Hello','World'])\n",
        "#Replacing old string from new String\n",
        "new = np.char.replace(x,'World','India')\n",
        "print(new)"
      ],
      "metadata": {
        "id": "brRBKg3KXtlb",
        "outputId": "8c44d44c-6add-42c9-94a5-8e87af1bc8d1",
        "colab": {
          "base_uri": "https://localhost:8080/"
        }
      },
      "execution_count": null,
      "outputs": [
        {
          "output_type": "stream",
          "name": "stdout",
          "text": [
            "['Hello' 'India']\n"
          ]
        }
      ]
    },
    {
      "cell_type": "code",
      "source": [
        "data = np.array(['my name is nikhil sanwal'])\n",
        "#Making string in Uppercase by using upper() function.\n",
        "upper_data = np.char.upper(data)\n",
        "print(upper_data)"
      ],
      "metadata": {
        "id": "v1O4hqDJXwYZ",
        "outputId": "9ff84e70-2dd1-43fd-c20a-9a555cd344cd",
        "colab": {
          "base_uri": "https://localhost:8080/"
        }
      },
      "execution_count": null,
      "outputs": [
        {
          "output_type": "stream",
          "name": "stdout",
          "text": [
            "['MY NAME IS NIKHIL SANWAL']\n"
          ]
        }
      ]
    },
    {
      "cell_type": "code",
      "source": [
        "#Making string in Lowercase by using lower() function.\n",
        "lower_data = np.char.lower(upper_data)\n",
        "print(lower_data)"
      ],
      "metadata": {
        "id": "0urN2ZEEXyBR",
        "outputId": "34c4e6f1-e2a2-4091-e39b-7d9c739fa08d",
        "colab": {
          "base_uri": "https://localhost:8080/"
        }
      },
      "execution_count": null,
      "outputs": [
        {
          "output_type": "stream",
          "name": "stdout",
          "text": [
            "['my name is nikhil sanwal']\n"
          ]
        }
      ]
    },
    {
      "cell_type": "markdown",
      "source": [
        "##4. INDEXING IN NUMPY -------->\n",
        "###Indexing is used in many programming languages to find the exact position of any element. Indexing always starts from 0 and goes till end.\n",
        "##NEGATIVE INDEXING -------->\n",
        "###Negative Indexing is a term which is used to get the exact position of any element from last. Suppose we don't know the length of indexing, there we can use negative indexing.Negative Indexing always starts from 1."
      ],
      "metadata": {
        "id": "Zg-Lt4cYYGo_"
      }
    },
    {
      "cell_type": "code",
      "source": [
        "d1 = np.array([10,20,30])\n",
        "d2 = np.array([[40,50,60],[70,80,90]])\n",
        "d3 = np.array([[[100,110,120],[130,140,150]],[[160,170,180],[190,200,210]]])\n",
        "#Axcessing \"20\" digit using indexing in 1st dimensional array\n",
        "print(d1[1])\n",
        "#Axcessing \"90\" digit using indexing in 2nd dimensional array\n",
        "print(d2[1][2])\n",
        "#Axcessing \"170\" digit using indexing in 3rd dimensional array\n",
        "print(d3[1][0][1])"
      ],
      "metadata": {
        "id": "el6ThbjaYYoQ",
        "outputId": "5d546e71-27b9-4002-96aa-d2d9cb8a833e",
        "colab": {
          "base_uri": "https://localhost:8080/"
        }
      },
      "execution_count": null,
      "outputs": [
        {
          "output_type": "stream",
          "name": "stdout",
          "text": [
            "20\n",
            "90\n",
            "170\n"
          ]
        }
      ]
    },
    {
      "cell_type": "code",
      "source": [
        "d4 = np.array([10,20,30])\n",
        "d5 = np.array([[40,50,60],[70,80,90]])\n",
        "d6 = np.array([[[100,110,120],[130,140,150]],[[160,170,180],[190,200,210]]])\n",
        "#Axcessing \"20\" digit using negative indexing in 1st dimensional array\n",
        "print(d4[-2])\n",
        "#Axcessing \"90\" digit using negative indexing in 2nd dimensional array\n",
        "print(d5[-1][-1])\n",
        "#Axcessing \"170\" digit using negative indexing in 3rd dimensional array\n",
        "print(d6[-1][-2][-2])"
      ],
      "metadata": {
        "id": "40C3MpUmYd7D",
        "outputId": "8b069af0-0452-4801-ab40-11bfad86d9e1",
        "colab": {
          "base_uri": "https://localhost:8080/"
        }
      },
      "execution_count": null,
      "outputs": [
        {
          "output_type": "stream",
          "name": "stdout",
          "text": [
            "20\n",
            "90\n",
            "170\n"
          ]
        }
      ]
    },
    {
      "cell_type": "markdown",
      "source": [
        "##5. SLICING\n",
        "###- Slicing means to cut down in pieces. Here we will slice our given data into pices as our required.\n",
        "###- [start:stop:step] this is basic fundamental we have to know. Now we will use this in our code below.\n",
        "###- Slicing always start from 0 as indexing does."
      ],
      "metadata": {
        "id": "C4WV4DBeYkT5"
      }
    },
    {
      "cell_type": "code",
      "source": [
        "arr1 = np.array([10,20,30,40,50,60,70,80,90,100])\n",
        "#Now here we are getting element whose indexing is 1 till 8 - 1 = 7th indexing in 1 Dimensional Array.\n",
        "arr1[1:8] #20,30,40,50,60,70,80\n",
        "#Now here we are extracting element with 1st indexing till 8 - 1 = 7th indexing on jump of every 2nd indexing.\n",
        "arr1[1:8:2] #Start:Stop:Step"
      ],
      "metadata": {
        "id": "1Qi3a3nGYrFX",
        "outputId": "6d121d2f-a51b-4ef8-ebe9-b767d77b45af",
        "colab": {
          "base_uri": "https://localhost:8080/"
        }
      },
      "execution_count": null,
      "outputs": [
        {
          "output_type": "execute_result",
          "data": {
            "text/plain": [
              "array([20, 40, 60, 80])"
            ]
          },
          "metadata": {},
          "execution_count": 38
        }
      ]
    },
    {
      "cell_type": "code",
      "source": [
        "arr2 = np.array([[10,20,30,40,50,60,70,80,90,100],[110,120,130,140,150,160,170,180,190,200]])\n",
        "#Now here we are getting element whose indexing is 1 till 8 - 1 = 7th indexing in 2 Dimensional Array.First we are giving indexing.\n",
        "arr2[0][1:8]\n",
        "#Here we mean to get 0th index element then Start from 1st element till 8 - 1 = 7th element.\n",
        "arr2[0, 1:8]  #20,30,40,50,60,70,80\n",
        "#Now here we are extracting element with 1st indexing till 8 - 1 = 7th indexing on jump of every 2nd indexing.\n",
        "arr2[0, 1:8:2]"
      ],
      "metadata": {
        "id": "B-9urvz1Ytcc",
        "outputId": "2a0e2807-9187-4f74-a9aa-d8d5ab066b9d",
        "colab": {
          "base_uri": "https://localhost:8080/"
        }
      },
      "execution_count": null,
      "outputs": [
        {
          "output_type": "execute_result",
          "data": {
            "text/plain": [
              "array([20, 40, 60, 80])"
            ]
          },
          "metadata": {},
          "execution_count": 39
        }
      ]
    },
    {
      "cell_type": "code",
      "source": [
        "arr3 = np.array([[[1,2,3,4,5,6,7,8,9,10],[10,11,12,13,14,15,16,17,18,19]],[[20,21,22,23,24,25,26,27,28,29],[30,31,32,33,34,35,36,37,38,39]]])\n",
        "#Same as 2d array, first we define the indexing and then we sliced.\n",
        "arr3[1,0, 2:9] #22,23,24,25,26,27,28\n",
        "#Now here we are extracting element with 1st indexing till 8 - 1 = 7th indexing on jump of every 2nd indexing.\n",
        "arr3[1,0, 2:9:2]"
      ],
      "metadata": {
        "id": "AGSrYk-hYu9e",
        "outputId": "5ff53898-81ec-4b1f-9127-2d387da20761",
        "colab": {
          "base_uri": "https://localhost:8080/"
        }
      },
      "execution_count": null,
      "outputs": [
        {
          "output_type": "execute_result",
          "data": {
            "text/plain": [
              "array([22, 24, 26, 28])"
            ]
          },
          "metadata": {},
          "execution_count": 40
        }
      ]
    },
    {
      "cell_type": "code",
      "source": [],
      "metadata": {
        "id": "iFF-eWafYwmW"
      },
      "execution_count": null,
      "outputs": []
    }
  ],
  "metadata": {
    "colab": {
      "provenance": [],
      "include_colab_link": true
    },
    "kernelspec": {
      "display_name": "Python 3",
      "name": "python3"
    }
  },
  "nbformat": 4,
  "nbformat_minor": 0
}