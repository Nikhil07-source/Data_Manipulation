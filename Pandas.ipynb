{
  "nbformat": 4,
  "nbformat_minor": 0,
  "metadata": {
    "colab": {
      "provenance": [],
      "authorship_tag": "ABX9TyMrpxvIc6a/Dr7phn7RipOz",
      "include_colab_link": true
    },
    "kernelspec": {
      "name": "python3",
      "display_name": "Python 3"
    },
    "language_info": {
      "name": "python"
    }
  },
  "cells": [
    {
      "cell_type": "markdown",
      "metadata": {
        "id": "view-in-github",
        "colab_type": "text"
      },
      "source": [
        "<a href=\"https://colab.research.google.com/github/Nikhil07-source/Nikhil07-source/blob/main/Pandas.ipynb\" target=\"_parent\"><img src=\"https://colab.research.google.com/assets/colab-badge.svg\" alt=\"Open In Colab\"/></a>"
      ]
    },
    {
      "cell_type": "markdown",
      "source": [
        "# **Introduction to Pandas**\n",
        "Pandas is an open-source library built on top of NumPy and is used for data manipulation.\n",
        "\n",
        "- It introduces data structures like DataFrame and Series that make working with structured data more efficient.\n",
        "\n",
        "### __Introduction to Series__\n",
        "- A Series is a one-dimensional array-like object containing data and labels or index."
      ],
      "metadata": {
        "id": "hlFv-OpCvKtX"
      }
    },
    {
      "cell_type": "code",
      "source": [
        "import pandas as pd\n",
        "\n",
        "list = [1,2,3,4,5,6,7,8,9,10]\n",
        "series = pd.Series(list)\n",
        "print(series)\n",
        "print('Accessing the item which is in 4th indexing:', series[4]) #Here we are accessing the item by indexing."
      ],
      "metadata": {
        "colab": {
          "base_uri": "https://localhost:8080/"
        },
        "id": "97F73WmPvkyU",
        "outputId": "935dda53-c412-4232-b9f6-83dc8cca82fd"
      },
      "execution_count": null,
      "outputs": [
        {
          "output_type": "stream",
          "name": "stdout",
          "text": [
            "0     1\n",
            "1     2\n",
            "2     3\n",
            "3     4\n",
            "4     5\n",
            "5     6\n",
            "6     7\n",
            "7     8\n",
            "8     9\n",
            "9    10\n",
            "dtype: int64\n",
            "Accessing the item which is in 4th indexing: 5\n"
          ]
        }
      ]
    },
    {
      "cell_type": "code",
      "source": [
        "#Changing index of above series\n",
        "index = ['a','b','c','d','e','f','g','h','i','j']\n",
        "series_with_index = pd.Series(list, index)\n",
        "print(series_with_index)\n",
        "print(\"Accessing the item from series by assigned indexing which is in 'e's place:\", series_with_index['e']) #Here we are accessing the item from series by assigned indexing."
      ],
      "metadata": {
        "colab": {
          "base_uri": "https://localhost:8080/"
        },
        "id": "yy7IUbYYwG_-",
        "outputId": "16b9e5c3-1052-47d8-aada-121f4aa459cb"
      },
      "execution_count": null,
      "outputs": [
        {
          "output_type": "stream",
          "name": "stdout",
          "text": [
            "a     1\n",
            "b     2\n",
            "c     3\n",
            "d     4\n",
            "e     5\n",
            "f     6\n",
            "g     7\n",
            "h     8\n",
            "i     9\n",
            "j    10\n",
            "dtype: int64\n",
            "Accessing the item from series by assigned indexing which is in 'e's place: 5\n"
          ]
        }
      ]
    },
    {
      "cell_type": "code",
      "source": [
        "#Creating a Pandas Series Using Dictionary\n",
        "dict = {'a':1,'b':2,'c':3,'d':4,'e':5,'f':6,'g':7,'h':8,'h':9,'i':10}\n",
        "series_using_dict = pd.Series(dict)\n",
        "print(series_using_dict)"
      ],
      "metadata": {
        "colab": {
          "base_uri": "https://localhost:8080/"
        },
        "id": "MOsihydEwL6j",
        "outputId": "b0695dce-f0f7-42d6-f6f1-70037f08b700"
      },
      "execution_count": null,
      "outputs": [
        {
          "output_type": "stream",
          "name": "stdout",
          "text": [
            "a     1\n",
            "b     2\n",
            "c     3\n",
            "d     4\n",
            "e     5\n",
            "f     6\n",
            "g     7\n",
            "h     9\n",
            "i    10\n",
            "dtype: int64\n"
          ]
        }
      ]
    },
    {
      "cell_type": "code",
      "source": [
        "#Returing the first n rows by using head() function.\n",
        "print('Here we are using default head function which will only print first top 5 rows:\\n', series.head()) #By default it will only take top 5\n",
        "print('Here we are only taking top 3 rows of the series:\\n', series.head(3)) #Now here we are taking only top 3 head from series.\n",
        "print('Now we are using negative value to get rows from top:\\n', series.head(-4)) #It will subtract the value given by us between brackets from total no of rows."
      ],
      "metadata": {
        "colab": {
          "base_uri": "https://localhost:8080/"
        },
        "id": "yivkH_0jwMTO",
        "outputId": "cd2351be-842a-4f3a-91ff-66550e9b751e"
      },
      "execution_count": null,
      "outputs": [
        {
          "output_type": "stream",
          "name": "stdout",
          "text": [
            "Here we are using default head function which will only print first top 5 rows:\n",
            " 0    1\n",
            "1    2\n",
            "2    3\n",
            "3    4\n",
            "4    5\n",
            "dtype: int64\n",
            "Here we are only taking top 3 rows of the series:\n",
            " 0    1\n",
            "1    2\n",
            "2    3\n",
            "dtype: int64\n",
            "Now we are using negative value to get rows from top:\n",
            " 0    1\n",
            "1    2\n",
            "2    3\n",
            "3    4\n",
            "4    5\n",
            "5    6\n",
            "dtype: int64\n"
          ]
        }
      ]
    },
    {
      "cell_type": "code",
      "source": [
        "#Returing the last n rows by using tail() function.\n",
        "print('Now we are getting last n rows:\\n', series.tail()) #Same as .head() it will return only last 5 rows as default.\n",
        "print('Here we are only taking last 3 rows of the series:\\n', series.tail(3)) #Now here we are taking only last 3 rows from series, same as head.\n",
        "print('Now we are using negative value to get row from last:\\n', series.tail(-6))"
      ],
      "metadata": {
        "colab": {
          "base_uri": "https://localhost:8080/"
        },
        "id": "0YmFd7p2wOtI",
        "outputId": "bd651c1d-053f-41e7-90ac-ebf0fdd40478"
      },
      "execution_count": null,
      "outputs": [
        {
          "output_type": "stream",
          "name": "stdout",
          "text": [
            "Now we are getting last n rows:\n",
            " 5     6\n",
            "6     7\n",
            "7     8\n",
            "8     9\n",
            "9    10\n",
            "dtype: int64\n",
            "Here we are only taking last 3 rows of the series:\n",
            " 7     8\n",
            "8     9\n",
            "9    10\n",
            "dtype: int64\n",
            "Now we are using negative value to get row from last:\n",
            " 6     7\n",
            "7     8\n",
            "8     9\n",
            "9    10\n",
            "dtype: int64\n"
          ]
        }
      ]
    },
    {
      "cell_type": "code",
      "source": [
        "#Shape of the Series we use .shape\n",
        "print('The shape of above series is:', series.shape) #Here we are getting the shape of the series, it is 1 dimensional thatwhy it prints: (10,)\n",
        "print('The Descriptive Statistics of above series is:', series.describe()) #We use .describe() function to get the descriptive statistic of series.\n",
        "print('The unique values in above series are:', series.unique()) #To get unique values in a series we use .unique() function.\n",
        "print('The number of unique values in above series are:', series.nunique()) #To get the numbers of unique values in a series we use .nunique() function."
      ],
      "metadata": {
        "colab": {
          "base_uri": "https://localhost:8080/"
        },
        "id": "SwfErdRNwRpG",
        "outputId": "2299dfa5-a7a8-48f5-f0ad-a59338200733"
      },
      "execution_count": null,
      "outputs": [
        {
          "output_type": "stream",
          "name": "stdout",
          "text": [
            "The shape of above series is: (10,)\n",
            "The Descriptive Statistics of above series is: count    10.00000\n",
            "mean      5.50000\n",
            "std       3.02765\n",
            "min       1.00000\n",
            "25%       3.25000\n",
            "50%       5.50000\n",
            "75%       7.75000\n",
            "max      10.00000\n",
            "dtype: float64\n",
            "The unique values in above series are: [ 1  2  3  4  5  6  7  8  9 10]\n",
            "The number of unique values in above series are: 10\n"
          ]
        }
      ]
    },
    {
      "cell_type": "code",
      "source": [
        "#Airthmetic Operations in Series using pandas\n",
        "series = pd.Series([1,2,3,4,5,6,7,8,9,10])\n",
        "index = ['a','b','c','d','e','f','g','h','i','j']\n",
        "series_with_index = pd.Series(list, index)\n",
        "result = series + series_with_index #It is not working as expected because here index of both \"series\" and \"series_with_index\" is not same thatwhy it is concatenating indexes, instead of adding.\n",
        "print(result)"
      ],
      "metadata": {
        "colab": {
          "base_uri": "https://localhost:8080/"
        },
        "id": "NzDN9AFgwUok",
        "outputId": "314986d7-cf75-4c0a-95fd-9828fbb050a8"
      },
      "execution_count": null,
      "outputs": [
        {
          "output_type": "stream",
          "name": "stdout",
          "text": [
            "0   NaN\n",
            "1   NaN\n",
            "2   NaN\n",
            "3   NaN\n",
            "4   NaN\n",
            "5   NaN\n",
            "6   NaN\n",
            "7   NaN\n",
            "8   NaN\n",
            "9   NaN\n",
            "a   NaN\n",
            "b   NaN\n",
            "c   NaN\n",
            "d   NaN\n",
            "e   NaN\n",
            "f   NaN\n",
            "g   NaN\n",
            "h   NaN\n",
            "i   NaN\n",
            "j   NaN\n",
            "dtype: float64\n"
          ]
        }
      ]
    },
    {
      "cell_type": "code",
      "source": [
        "new_result = series + series\n",
        "print(new_result) #Here it is adding because indexes are same in both the series."
      ],
      "metadata": {
        "colab": {
          "base_uri": "https://localhost:8080/"
        },
        "id": "KuQ_06s5wZJQ",
        "outputId": "ad9c2990-3510-4d51-edcd-8cf0d5225624"
      },
      "execution_count": null,
      "outputs": [
        {
          "output_type": "stream",
          "name": "stdout",
          "text": [
            "0     2\n",
            "1     4\n",
            "2     6\n",
            "3     8\n",
            "4    10\n",
            "5    12\n",
            "6    14\n",
            "7    16\n",
            "8    18\n",
            "9    20\n",
            "dtype: int64\n"
          ]
        }
      ]
    },
    {
      "cell_type": "code",
      "source": [
        "a = pd.Series([2,4,6,8,10,12,14,16,18,20])\n",
        "b = pd.Series([4,8,12,16,20,24,28,32,36,40])\n",
        "add_result = a + b\n",
        "sub_result = b - a\n",
        "mul_result = a * b\n",
        "div_result = b / a\n",
        "#If items in a series will not same in both, it will return NaN(Not a Number).\n",
        "print('The Addition of above two series is:\\n',add_result) #It will add element wise.\n",
        "print('The Substraction of above two series is:\\n', sub_result) #It will substract element wise.\n",
        "print('The Multiplication of above to series is:\\n', mul_result) #It will multiply element wise.\n",
        "print('The Divison of above two series is:\\n', div_result) #It will divide element wise."
      ],
      "metadata": {
        "colab": {
          "base_uri": "https://localhost:8080/"
        },
        "id": "qNnCc4GrwcZ_",
        "outputId": "9bb697ee-5c62-43cc-e588-2933af1df321"
      },
      "execution_count": null,
      "outputs": [
        {
          "output_type": "stream",
          "name": "stdout",
          "text": [
            "The Addition of above two series is:\n",
            " 0     6\n",
            "1    12\n",
            "2    18\n",
            "3    24\n",
            "4    30\n",
            "5    36\n",
            "6    42\n",
            "7    48\n",
            "8    54\n",
            "9    60\n",
            "dtype: int64\n",
            "The Substraction of above two series is:\n",
            " 0     2\n",
            "1     4\n",
            "2     6\n",
            "3     8\n",
            "4    10\n",
            "5    12\n",
            "6    14\n",
            "7    16\n",
            "8    18\n",
            "9    20\n",
            "dtype: int64\n",
            "The Multiplication of above to series is:\n",
            " 0      8\n",
            "1     32\n",
            "2     72\n",
            "3    128\n",
            "4    200\n",
            "5    288\n",
            "6    392\n",
            "7    512\n",
            "8    648\n",
            "9    800\n",
            "dtype: int64\n",
            "The Divison of above two series is:\n",
            " 0    2.0\n",
            "1    2.0\n",
            "2    2.0\n",
            "3    2.0\n",
            "4    2.0\n",
            "5    2.0\n",
            "6    2.0\n",
            "7    2.0\n",
            "8    2.0\n",
            "9    2.0\n",
            "dtype: float64\n"
          ]
        }
      ]
    },
    {
      "cell_type": "code",
      "source": [
        "#Apply a function to each item of Series using .apply(lambda). By using .apply(lambda) we can perform action to a particular items in series in one go.\n",
        "new_num = pd.Series([86,50,38,14,51])\n",
        "app_result = new_num.apply(lambda x: x+1) #Here it's necessary use lambda inside brackets.\n",
        "print(app_result)"
      ],
      "metadata": {
        "colab": {
          "base_uri": "https://localhost:8080/"
        },
        "id": "29AWgVISwevH",
        "outputId": "a87bb202-85b8-4f62-e58b-d944e70948bc"
      },
      "execution_count": null,
      "outputs": [
        {
          "output_type": "stream",
          "name": "stdout",
          "text": [
            "0    87\n",
            "1    51\n",
            "2    39\n",
            "3    15\n",
            "4    52\n",
            "dtype: int64\n"
          ]
        }
      ]
    },
    {
      "cell_type": "code",
      "source": [
        "#Map is a function which is used to overwrite the item inside a series.\n",
        "mapped_series = new_num.map({86: 'Eighty Six', 14: 'Fourteen'}) #.Map values using dictonary\n",
        "mapped_series"
      ],
      "metadata": {
        "colab": {
          "base_uri": "https://localhost:8080/",
          "height": 241
        },
        "id": "MkaM2mmGwjD3",
        "outputId": "6ad073ba-c45a-4d74-8258-02d761a98609"
      },
      "execution_count": null,
      "outputs": [
        {
          "output_type": "execute_result",
          "data": {
            "text/plain": [
              "0    Eighty Six\n",
              "1           NaN\n",
              "2           NaN\n",
              "3      Fourteen\n",
              "4           NaN\n",
              "dtype: object"
            ],
            "text/html": [
              "<div>\n",
              "<style scoped>\n",
              "    .dataframe tbody tr th:only-of-type {\n",
              "        vertical-align: middle;\n",
              "    }\n",
              "\n",
              "    .dataframe tbody tr th {\n",
              "        vertical-align: top;\n",
              "    }\n",
              "\n",
              "    .dataframe thead th {\n",
              "        text-align: right;\n",
              "    }\n",
              "</style>\n",
              "<table border=\"1\" class=\"dataframe\">\n",
              "  <thead>\n",
              "    <tr style=\"text-align: right;\">\n",
              "      <th></th>\n",
              "      <th>0</th>\n",
              "    </tr>\n",
              "  </thead>\n",
              "  <tbody>\n",
              "    <tr>\n",
              "      <th>0</th>\n",
              "      <td>Eighty Six</td>\n",
              "    </tr>\n",
              "    <tr>\n",
              "      <th>1</th>\n",
              "      <td>NaN</td>\n",
              "    </tr>\n",
              "    <tr>\n",
              "      <th>2</th>\n",
              "      <td>NaN</td>\n",
              "    </tr>\n",
              "    <tr>\n",
              "      <th>3</th>\n",
              "      <td>Fourteen</td>\n",
              "    </tr>\n",
              "    <tr>\n",
              "      <th>4</th>\n",
              "      <td>NaN</td>\n",
              "    </tr>\n",
              "  </tbody>\n",
              "</table>\n",
              "</div><br><label><b>dtype:</b> object</label>"
            ]
          },
          "metadata": {},
          "execution_count": 12
        }
      ]
    },
    {
      "cell_type": "code",
      "source": [
        "#Sort = It is used to sort items in Series by Ascending to Decending or Decending to Ascending\n",
        "data = pd.Series([987,654,321,741,852,963,357,951])\n",
        "sort_result = data.sort_values()\n",
        "print('Sort items in series by using .sort_values function:\\n',sort_result) #It will only sort values, indexes will change according to their values position."
      ],
      "metadata": {
        "colab": {
          "base_uri": "https://localhost:8080/"
        },
        "id": "9nDhOs-MwkbR",
        "outputId": "92328a12-6eef-4142-b63c-2d2d9c20cd94"
      },
      "execution_count": null,
      "outputs": [
        {
          "output_type": "stream",
          "name": "stdout",
          "text": [
            "Sort items in series by using .sort_values function:\n",
            " 2    321\n",
            "6    357\n",
            "1    654\n",
            "3    741\n",
            "4    852\n",
            "7    951\n",
            "5    963\n",
            "0    987\n",
            "dtype: int64\n"
          ]
        }
      ]
    },
    {
      "cell_type": "code",
      "source": [
        "#Checking null values in a series using .isnull() function.\n",
        "print('Here is the series:\\n',mapped_series)\n",
        "print('Here we are checking that is there any null values or not in above series:\\n',mapped_series.isnull())"
      ],
      "metadata": {
        "colab": {
          "base_uri": "https://localhost:8080/"
        },
        "id": "2MRv0AHbwl10",
        "outputId": "764a3e25-b93c-4974-aec7-b550f22aa780"
      },
      "execution_count": null,
      "outputs": [
        {
          "output_type": "stream",
          "name": "stdout",
          "text": [
            "Here is the series:\n",
            " 0    Eighty Six\n",
            "1           NaN\n",
            "2           NaN\n",
            "3      Fourteen\n",
            "4           NaN\n",
            "dtype: object\n",
            "Here we are checking that is there any null values or not in above series:\n",
            " 0    False\n",
            "1     True\n",
            "2     True\n",
            "3    False\n",
            "4     True\n",
            "dtype: bool\n"
          ]
        }
      ]
    },
    {
      "cell_type": "code",
      "source": [
        "#Filling values in null values\n",
        "filled_series = mapped_series.fillna(0)\n",
        "print(filled_series)"
      ],
      "metadata": {
        "colab": {
          "base_uri": "https://localhost:8080/"
        },
        "id": "1xaTGqwlwncJ",
        "outputId": "8f585178-f8f2-4bdc-d72a-beec3d38afae"
      },
      "execution_count": null,
      "outputs": [
        {
          "output_type": "stream",
          "name": "stdout",
          "text": [
            "0    Eighty Six\n",
            "1             0\n",
            "2             0\n",
            "3      Fourteen\n",
            "4             0\n",
            "dtype: object\n"
          ]
        }
      ]
    },
    {
      "cell_type": "code",
      "source": [
        "#QUERYING SERIES\n",
        "#Selecting and filtering data based on specific conditions is an essential aspect of querying a Pandas Series.\n",
        "\n",
        "data = pd.Series({'a':56,'b':54,'c':27,'d':78,'e':89,'f':56,'g':54,'h':22,'i':27})\n",
        "greater_then_30 = data[data > 30]\n",
        "print('These are the items which are greater then 30: \\n',greater_then_30)\n",
        "equalto_27 = data[data == 27]\n",
        "print('Printing the items in a series which are equal to 20:\\n', equalto_27)\n",
        "multiple_and_condition = data[(data > 20) & (data < 60)]                                          #Have a look in '&' operator in between.\n",
        "print('Items which are greater then 20 and less then 60 will print:\\n', multiple_and_condition)\n",
        "multiple_or_condition = data[(data == 27) | (data == 56)]\n",
        "print('Item in which 27 or 56 are same:\\n',multiple_or_condition)"
      ],
      "metadata": {
        "colab": {
          "base_uri": "https://localhost:8080/"
        },
        "id": "XV8-FkqmwoyG",
        "outputId": "a900def5-2741-48ef-999a-f6f9eea43f43"
      },
      "execution_count": null,
      "outputs": [
        {
          "output_type": "stream",
          "name": "stdout",
          "text": [
            "These are the items which are greater then 30: \n",
            " a    56\n",
            "b    54\n",
            "d    78\n",
            "e    89\n",
            "f    56\n",
            "g    54\n",
            "dtype: int64\n",
            "Printing the items in a series which are equal to 20:\n",
            " c    27\n",
            "i    27\n",
            "dtype: int64\n",
            "Items which are greater then 20 and less then 60 will print:\n",
            " a    56\n",
            "b    54\n",
            "c    27\n",
            "f    56\n",
            "g    54\n",
            "h    22\n",
            "i    27\n",
            "dtype: int64\n",
            "Item in which 27 or 56 are same:\n",
            " a    56\n",
            "c    27\n",
            "f    56\n",
            "i    27\n",
            "dtype: int64\n"
          ]
        }
      ]
    },
    {
      "cell_type": "code",
      "source": [
        "filter_by_list = data[data.isin([56,27,78])]\n",
        "print('Getting items with specific values under a series:\\n',filter_by_list)"
      ],
      "metadata": {
        "colab": {
          "base_uri": "https://localhost:8080/"
        },
        "id": "EvFhak_bwp7F",
        "outputId": "11c50fb4-0f96-4157-ee16-6b9d5aba4770"
      },
      "execution_count": null,
      "outputs": [
        {
          "output_type": "stream",
          "name": "stdout",
          "text": [
            "Getting items with specific values under a series:\n",
            " a    56\n",
            "c    27\n",
            "d    78\n",
            "f    56\n",
            "i    27\n",
            "dtype: int64\n"
          ]
        }
      ]
    },
    {
      "cell_type": "code",
      "source": [
        "#Selecting items which comes with same alphabet using .str.startswith() function.\n",
        "names = pd.Series(['amit','Satish','rahul','shivam','neeraj','nikhil','tarun','mukesh','ritik'])\n",
        "filter_name = names[names.str.startswith('s')] #Here we are finding items which starts with specific keyword.Exact Match Phase.\n",
        "print(filter_name)"
      ],
      "metadata": {
        "colab": {
          "base_uri": "https://localhost:8080/"
        },
        "id": "LOU6G9I3wtio",
        "outputId": "3d289cf2-9499-42a6-d3fe-0e50e1477dfe"
      },
      "execution_count": null,
      "outputs": [
        {
          "output_type": "stream",
          "name": "stdout",
          "text": [
            "3    shivam\n",
            "dtype: object\n"
          ]
        }
      ]
    },
    {
      "cell_type": "code",
      "source": [
        "print(series_with_index)\n",
        "loc_result = series_with_index.loc[['c','e']] #Extracting items using index\n",
        "print(loc_result)\n",
        "iloc_result = series_with_index.iloc[3:8] #Extract item whose indexing starts from 3 to indexing 8-1 = 7\n",
        "print(iloc_result)"
      ],
      "metadata": {
        "colab": {
          "base_uri": "https://localhost:8080/"
        },
        "id": "XbQf3UVMwuqD",
        "outputId": "e3fe4a6b-4ce8-49f2-8bdd-48d6c278357a"
      },
      "execution_count": null,
      "outputs": [
        {
          "output_type": "stream",
          "name": "stdout",
          "text": [
            "a     1\n",
            "b     2\n",
            "c     3\n",
            "d     4\n",
            "e     5\n",
            "f     6\n",
            "g     7\n",
            "h     8\n",
            "i     9\n",
            "j    10\n",
            "dtype: int64\n",
            "c    3\n",
            "e    5\n",
            "dtype: int64\n",
            "d    4\n",
            "e    5\n",
            "f    6\n",
            "g    7\n",
            "h    8\n",
            "dtype: int64\n"
          ]
        }
      ]
    },
    {
      "cell_type": "markdown",
      "source": [
        "#DataFrame\n",
        "- A Pandas DataFrame is a two-dimensional, tabular data structure with labeled axes (Rows and columns). It is a primary data structure in the Pandas library, providing a versatile and efficient way to handle and manipulate data in Python."
      ],
      "metadata": {
        "id": "xiM3yWcEw1xu"
      }
    },
    {
      "cell_type": "code",
      "source": [
        "#Creating a Dataframe using a Dictionary\n",
        "dict_data = {'Name':['Rahul','Sumit','Nikhil','Satish','Ritesh','Amit','Rajesh','Prateek'],\n",
        "             'Age': [32,22,22,24,26,25,22,25],\n",
        "             'Salary': [86000,50000,88000,14000,51000,42000,38000,65000],\n",
        "             'Department': ['Manager','HR','IT','Marketing','Sales','IT','Sales','IT']\n",
        "            }\n",
        "df_data = pd.DataFrame(dict_data)\n",
        "df_data"
      ],
      "metadata": {
        "colab": {
          "base_uri": "https://localhost:8080/",
          "height": 300
        },
        "id": "6GXCk08zwvrL",
        "outputId": "eb0a758f-da04-45b2-c5da-7a18445e4396"
      },
      "execution_count": null,
      "outputs": [
        {
          "output_type": "execute_result",
          "data": {
            "text/plain": [
              "      Name  Age  Salary Department\n",
              "0    Rahul   32   86000    Manager\n",
              "1    Sumit   22   50000         HR\n",
              "2   Nikhil   22   88000         IT\n",
              "3   Satish   24   14000  Marketing\n",
              "4   Ritesh   26   51000      Sales\n",
              "5     Amit   25   42000         IT\n",
              "6   Rajesh   22   38000      Sales\n",
              "7  Prateek   25   65000         IT"
            ],
            "text/html": [
              "\n",
              "  <div id=\"df-a6668bbe-8e75-42cf-ba0c-3a46082f6060\" class=\"colab-df-container\">\n",
              "    <div>\n",
              "<style scoped>\n",
              "    .dataframe tbody tr th:only-of-type {\n",
              "        vertical-align: middle;\n",
              "    }\n",
              "\n",
              "    .dataframe tbody tr th {\n",
              "        vertical-align: top;\n",
              "    }\n",
              "\n",
              "    .dataframe thead th {\n",
              "        text-align: right;\n",
              "    }\n",
              "</style>\n",
              "<table border=\"1\" class=\"dataframe\">\n",
              "  <thead>\n",
              "    <tr style=\"text-align: right;\">\n",
              "      <th></th>\n",
              "      <th>Name</th>\n",
              "      <th>Age</th>\n",
              "      <th>Salary</th>\n",
              "      <th>Department</th>\n",
              "    </tr>\n",
              "  </thead>\n",
              "  <tbody>\n",
              "    <tr>\n",
              "      <th>0</th>\n",
              "      <td>Rahul</td>\n",
              "      <td>32</td>\n",
              "      <td>86000</td>\n",
              "      <td>Manager</td>\n",
              "    </tr>\n",
              "    <tr>\n",
              "      <th>1</th>\n",
              "      <td>Sumit</td>\n",
              "      <td>22</td>\n",
              "      <td>50000</td>\n",
              "      <td>HR</td>\n",
              "    </tr>\n",
              "    <tr>\n",
              "      <th>2</th>\n",
              "      <td>Nikhil</td>\n",
              "      <td>22</td>\n",
              "      <td>88000</td>\n",
              "      <td>IT</td>\n",
              "    </tr>\n",
              "    <tr>\n",
              "      <th>3</th>\n",
              "      <td>Satish</td>\n",
              "      <td>24</td>\n",
              "      <td>14000</td>\n",
              "      <td>Marketing</td>\n",
              "    </tr>\n",
              "    <tr>\n",
              "      <th>4</th>\n",
              "      <td>Ritesh</td>\n",
              "      <td>26</td>\n",
              "      <td>51000</td>\n",
              "      <td>Sales</td>\n",
              "    </tr>\n",
              "    <tr>\n",
              "      <th>5</th>\n",
              "      <td>Amit</td>\n",
              "      <td>25</td>\n",
              "      <td>42000</td>\n",
              "      <td>IT</td>\n",
              "    </tr>\n",
              "    <tr>\n",
              "      <th>6</th>\n",
              "      <td>Rajesh</td>\n",
              "      <td>22</td>\n",
              "      <td>38000</td>\n",
              "      <td>Sales</td>\n",
              "    </tr>\n",
              "    <tr>\n",
              "      <th>7</th>\n",
              "      <td>Prateek</td>\n",
              "      <td>25</td>\n",
              "      <td>65000</td>\n",
              "      <td>IT</td>\n",
              "    </tr>\n",
              "  </tbody>\n",
              "</table>\n",
              "</div>\n",
              "    <div class=\"colab-df-buttons\">\n",
              "\n",
              "  <div class=\"colab-df-container\">\n",
              "    <button class=\"colab-df-convert\" onclick=\"convertToInteractive('df-a6668bbe-8e75-42cf-ba0c-3a46082f6060')\"\n",
              "            title=\"Convert this dataframe to an interactive table.\"\n",
              "            style=\"display:none;\">\n",
              "\n",
              "  <svg xmlns=\"http://www.w3.org/2000/svg\" height=\"24px\" viewBox=\"0 -960 960 960\">\n",
              "    <path d=\"M120-120v-720h720v720H120Zm60-500h600v-160H180v160Zm220 220h160v-160H400v160Zm0 220h160v-160H400v160ZM180-400h160v-160H180v160Zm440 0h160v-160H620v160ZM180-180h160v-160H180v160Zm440 0h160v-160H620v160Z\"/>\n",
              "  </svg>\n",
              "    </button>\n",
              "\n",
              "  <style>\n",
              "    .colab-df-container {\n",
              "      display:flex;\n",
              "      gap: 12px;\n",
              "    }\n",
              "\n",
              "    .colab-df-convert {\n",
              "      background-color: #E8F0FE;\n",
              "      border: none;\n",
              "      border-radius: 50%;\n",
              "      cursor: pointer;\n",
              "      display: none;\n",
              "      fill: #1967D2;\n",
              "      height: 32px;\n",
              "      padding: 0 0 0 0;\n",
              "      width: 32px;\n",
              "    }\n",
              "\n",
              "    .colab-df-convert:hover {\n",
              "      background-color: #E2EBFA;\n",
              "      box-shadow: 0px 1px 2px rgba(60, 64, 67, 0.3), 0px 1px 3px 1px rgba(60, 64, 67, 0.15);\n",
              "      fill: #174EA6;\n",
              "    }\n",
              "\n",
              "    .colab-df-buttons div {\n",
              "      margin-bottom: 4px;\n",
              "    }\n",
              "\n",
              "    [theme=dark] .colab-df-convert {\n",
              "      background-color: #3B4455;\n",
              "      fill: #D2E3FC;\n",
              "    }\n",
              "\n",
              "    [theme=dark] .colab-df-convert:hover {\n",
              "      background-color: #434B5C;\n",
              "      box-shadow: 0px 1px 3px 1px rgba(0, 0, 0, 0.15);\n",
              "      filter: drop-shadow(0px 1px 2px rgba(0, 0, 0, 0.3));\n",
              "      fill: #FFFFFF;\n",
              "    }\n",
              "  </style>\n",
              "\n",
              "    <script>\n",
              "      const buttonEl =\n",
              "        document.querySelector('#df-a6668bbe-8e75-42cf-ba0c-3a46082f6060 button.colab-df-convert');\n",
              "      buttonEl.style.display =\n",
              "        google.colab.kernel.accessAllowed ? 'block' : 'none';\n",
              "\n",
              "      async function convertToInteractive(key) {\n",
              "        const element = document.querySelector('#df-a6668bbe-8e75-42cf-ba0c-3a46082f6060');\n",
              "        const dataTable =\n",
              "          await google.colab.kernel.invokeFunction('convertToInteractive',\n",
              "                                                    [key], {});\n",
              "        if (!dataTable) return;\n",
              "\n",
              "        const docLinkHtml = 'Like what you see? Visit the ' +\n",
              "          '<a target=\"_blank\" href=https://colab.research.google.com/notebooks/data_table.ipynb>data table notebook</a>'\n",
              "          + ' to learn more about interactive tables.';\n",
              "        element.innerHTML = '';\n",
              "        dataTable['output_type'] = 'display_data';\n",
              "        await google.colab.output.renderOutput(dataTable, element);\n",
              "        const docLink = document.createElement('div');\n",
              "        docLink.innerHTML = docLinkHtml;\n",
              "        element.appendChild(docLink);\n",
              "      }\n",
              "    </script>\n",
              "  </div>\n",
              "\n",
              "\n",
              "<div id=\"df-5decbea7-b6a9-41c1-82d2-812f10141e84\">\n",
              "  <button class=\"colab-df-quickchart\" onclick=\"quickchart('df-5decbea7-b6a9-41c1-82d2-812f10141e84')\"\n",
              "            title=\"Suggest charts\"\n",
              "            style=\"display:none;\">\n",
              "\n",
              "<svg xmlns=\"http://www.w3.org/2000/svg\" height=\"24px\"viewBox=\"0 0 24 24\"\n",
              "     width=\"24px\">\n",
              "    <g>\n",
              "        <path d=\"M19 3H5c-1.1 0-2 .9-2 2v14c0 1.1.9 2 2 2h14c1.1 0 2-.9 2-2V5c0-1.1-.9-2-2-2zM9 17H7v-7h2v7zm4 0h-2V7h2v10zm4 0h-2v-4h2v4z\"/>\n",
              "    </g>\n",
              "</svg>\n",
              "  </button>\n",
              "\n",
              "<style>\n",
              "  .colab-df-quickchart {\n",
              "      --bg-color: #E8F0FE;\n",
              "      --fill-color: #1967D2;\n",
              "      --hover-bg-color: #E2EBFA;\n",
              "      --hover-fill-color: #174EA6;\n",
              "      --disabled-fill-color: #AAA;\n",
              "      --disabled-bg-color: #DDD;\n",
              "  }\n",
              "\n",
              "  [theme=dark] .colab-df-quickchart {\n",
              "      --bg-color: #3B4455;\n",
              "      --fill-color: #D2E3FC;\n",
              "      --hover-bg-color: #434B5C;\n",
              "      --hover-fill-color: #FFFFFF;\n",
              "      --disabled-bg-color: #3B4455;\n",
              "      --disabled-fill-color: #666;\n",
              "  }\n",
              "\n",
              "  .colab-df-quickchart {\n",
              "    background-color: var(--bg-color);\n",
              "    border: none;\n",
              "    border-radius: 50%;\n",
              "    cursor: pointer;\n",
              "    display: none;\n",
              "    fill: var(--fill-color);\n",
              "    height: 32px;\n",
              "    padding: 0;\n",
              "    width: 32px;\n",
              "  }\n",
              "\n",
              "  .colab-df-quickchart:hover {\n",
              "    background-color: var(--hover-bg-color);\n",
              "    box-shadow: 0 1px 2px rgba(60, 64, 67, 0.3), 0 1px 3px 1px rgba(60, 64, 67, 0.15);\n",
              "    fill: var(--button-hover-fill-color);\n",
              "  }\n",
              "\n",
              "  .colab-df-quickchart-complete:disabled,\n",
              "  .colab-df-quickchart-complete:disabled:hover {\n",
              "    background-color: var(--disabled-bg-color);\n",
              "    fill: var(--disabled-fill-color);\n",
              "    box-shadow: none;\n",
              "  }\n",
              "\n",
              "  .colab-df-spinner {\n",
              "    border: 2px solid var(--fill-color);\n",
              "    border-color: transparent;\n",
              "    border-bottom-color: var(--fill-color);\n",
              "    animation:\n",
              "      spin 1s steps(1) infinite;\n",
              "  }\n",
              "\n",
              "  @keyframes spin {\n",
              "    0% {\n",
              "      border-color: transparent;\n",
              "      border-bottom-color: var(--fill-color);\n",
              "      border-left-color: var(--fill-color);\n",
              "    }\n",
              "    20% {\n",
              "      border-color: transparent;\n",
              "      border-left-color: var(--fill-color);\n",
              "      border-top-color: var(--fill-color);\n",
              "    }\n",
              "    30% {\n",
              "      border-color: transparent;\n",
              "      border-left-color: var(--fill-color);\n",
              "      border-top-color: var(--fill-color);\n",
              "      border-right-color: var(--fill-color);\n",
              "    }\n",
              "    40% {\n",
              "      border-color: transparent;\n",
              "      border-right-color: var(--fill-color);\n",
              "      border-top-color: var(--fill-color);\n",
              "    }\n",
              "    60% {\n",
              "      border-color: transparent;\n",
              "      border-right-color: var(--fill-color);\n",
              "    }\n",
              "    80% {\n",
              "      border-color: transparent;\n",
              "      border-right-color: var(--fill-color);\n",
              "      border-bottom-color: var(--fill-color);\n",
              "    }\n",
              "    90% {\n",
              "      border-color: transparent;\n",
              "      border-bottom-color: var(--fill-color);\n",
              "    }\n",
              "  }\n",
              "</style>\n",
              "\n",
              "  <script>\n",
              "    async function quickchart(key) {\n",
              "      const quickchartButtonEl =\n",
              "        document.querySelector('#' + key + ' button');\n",
              "      quickchartButtonEl.disabled = true;  // To prevent multiple clicks.\n",
              "      quickchartButtonEl.classList.add('colab-df-spinner');\n",
              "      try {\n",
              "        const charts = await google.colab.kernel.invokeFunction(\n",
              "            'suggestCharts', [key], {});\n",
              "      } catch (error) {\n",
              "        console.error('Error during call to suggestCharts:', error);\n",
              "      }\n",
              "      quickchartButtonEl.classList.remove('colab-df-spinner');\n",
              "      quickchartButtonEl.classList.add('colab-df-quickchart-complete');\n",
              "    }\n",
              "    (() => {\n",
              "      let quickchartButtonEl =\n",
              "        document.querySelector('#df-5decbea7-b6a9-41c1-82d2-812f10141e84 button');\n",
              "      quickchartButtonEl.style.display =\n",
              "        google.colab.kernel.accessAllowed ? 'block' : 'none';\n",
              "    })();\n",
              "  </script>\n",
              "</div>\n",
              "\n",
              "  <div id=\"id_8c6eccdd-537b-4dd5-879e-6bf383c6ea84\">\n",
              "    <style>\n",
              "      .colab-df-generate {\n",
              "        background-color: #E8F0FE;\n",
              "        border: none;\n",
              "        border-radius: 50%;\n",
              "        cursor: pointer;\n",
              "        display: none;\n",
              "        fill: #1967D2;\n",
              "        height: 32px;\n",
              "        padding: 0 0 0 0;\n",
              "        width: 32px;\n",
              "      }\n",
              "\n",
              "      .colab-df-generate:hover {\n",
              "        background-color: #E2EBFA;\n",
              "        box-shadow: 0px 1px 2px rgba(60, 64, 67, 0.3), 0px 1px 3px 1px rgba(60, 64, 67, 0.15);\n",
              "        fill: #174EA6;\n",
              "      }\n",
              "\n",
              "      [theme=dark] .colab-df-generate {\n",
              "        background-color: #3B4455;\n",
              "        fill: #D2E3FC;\n",
              "      }\n",
              "\n",
              "      [theme=dark] .colab-df-generate:hover {\n",
              "        background-color: #434B5C;\n",
              "        box-shadow: 0px 1px 3px 1px rgba(0, 0, 0, 0.15);\n",
              "        filter: drop-shadow(0px 1px 2px rgba(0, 0, 0, 0.3));\n",
              "        fill: #FFFFFF;\n",
              "      }\n",
              "    </style>\n",
              "    <button class=\"colab-df-generate\" onclick=\"generateWithVariable('df_data')\"\n",
              "            title=\"Generate code using this dataframe.\"\n",
              "            style=\"display:none;\">\n",
              "\n",
              "  <svg xmlns=\"http://www.w3.org/2000/svg\" height=\"24px\"viewBox=\"0 0 24 24\"\n",
              "       width=\"24px\">\n",
              "    <path d=\"M7,19H8.4L18.45,9,17,7.55,7,17.6ZM5,21V16.75L18.45,3.32a2,2,0,0,1,2.83,0l1.4,1.43a1.91,1.91,0,0,1,.58,1.4,1.91,1.91,0,0,1-.58,1.4L9.25,21ZM18.45,9,17,7.55Zm-12,3A5.31,5.31,0,0,0,4.9,8.1,5.31,5.31,0,0,0,1,6.5,5.31,5.31,0,0,0,4.9,4.9,5.31,5.31,0,0,0,6.5,1,5.31,5.31,0,0,0,8.1,4.9,5.31,5.31,0,0,0,12,6.5,5.46,5.46,0,0,0,6.5,12Z\"/>\n",
              "  </svg>\n",
              "    </button>\n",
              "    <script>\n",
              "      (() => {\n",
              "      const buttonEl =\n",
              "        document.querySelector('#id_8c6eccdd-537b-4dd5-879e-6bf383c6ea84 button.colab-df-generate');\n",
              "      buttonEl.style.display =\n",
              "        google.colab.kernel.accessAllowed ? 'block' : 'none';\n",
              "\n",
              "      buttonEl.onclick = () => {\n",
              "        google.colab.notebook.generateWithVariable('df_data');\n",
              "      }\n",
              "      })();\n",
              "    </script>\n",
              "  </div>\n",
              "\n",
              "    </div>\n",
              "  </div>\n"
            ],
            "application/vnd.google.colaboratory.intrinsic+json": {
              "type": "dataframe",
              "variable_name": "df_data",
              "summary": "{\n  \"name\": \"df_data\",\n  \"rows\": 8,\n  \"fields\": [\n    {\n      \"column\": \"Name\",\n      \"properties\": {\n        \"dtype\": \"string\",\n        \"num_unique_values\": 8,\n        \"samples\": [\n          \"Sumit\",\n          \"Amit\",\n          \"Rahul\"\n        ],\n        \"semantic_type\": \"\",\n        \"description\": \"\"\n      }\n    },\n    {\n      \"column\": \"Age\",\n      \"properties\": {\n        \"dtype\": \"number\",\n        \"std\": 3,\n        \"min\": 22,\n        \"max\": 32,\n        \"num_unique_values\": 5,\n        \"samples\": [\n          22,\n          25,\n          24\n        ],\n        \"semantic_type\": \"\",\n        \"description\": \"\"\n      }\n    },\n    {\n      \"column\": \"Salary\",\n      \"properties\": {\n        \"dtype\": \"number\",\n        \"std\": 24858,\n        \"min\": 14000,\n        \"max\": 88000,\n        \"num_unique_values\": 8,\n        \"samples\": [\n          50000,\n          42000,\n          86000\n        ],\n        \"semantic_type\": \"\",\n        \"description\": \"\"\n      }\n    },\n    {\n      \"column\": \"Department\",\n      \"properties\": {\n        \"dtype\": \"string\",\n        \"num_unique_values\": 5,\n        \"samples\": [\n          \"HR\",\n          \"Sales\",\n          \"IT\"\n        ],\n        \"semantic_type\": \"\",\n        \"description\": \"\"\n      }\n    }\n  ]\n}"
            }
          },
          "metadata": {},
          "execution_count": 22
        }
      ]
    },
    {
      "cell_type": "code",
      "source": [
        "#Creating a DataFrame using list\n",
        "import pandas as pd\n",
        "\n",
        "list_data = [['Rahul',32,86000,'Manager'],['Sumit',22,50000,'HR'],['Nikhil',22,88000,'IT'],['Satish',44,14000,'Marketing'],['Ritesh',26,51000,'Sales'],['Amit',25,42000,'IT'],['Rajesh',22,38000,'Sales'],['Prateek',25,65000,'IT']]\n",
        "col = ['Name','Age','Salary','Department']\n",
        "list_df = pd.DataFrame(list_data, columns = col)\n",
        "print(list_df)"
      ],
      "metadata": {
        "colab": {
          "base_uri": "https://localhost:8080/"
        },
        "id": "lb-t-jg0wyaL",
        "outputId": "89afdaa4-fac9-44ec-8cb4-29de27170607"
      },
      "execution_count": null,
      "outputs": [
        {
          "output_type": "stream",
          "name": "stdout",
          "text": [
            "      Name  Age  Salary Department\n",
            "0    Rahul   32   86000    Manager\n",
            "1    Sumit   22   50000         HR\n",
            "2   Nikhil   22   88000         IT\n",
            "3   Satish   44   14000  Marketing\n",
            "4   Ritesh   26   51000      Sales\n",
            "5     Amit   25   42000         IT\n",
            "6   Rajesh   22   38000      Sales\n",
            "7  Prateek   25   65000         IT\n"
          ]
        }
      ]
    },
    {
      "cell_type": "code",
      "source": [
        "#Creating a DataFrame by a CSV File.\n",
        "df_csv = pd.read_csv('data.csv')\n",
        "print(df_csv)"
      ],
      "metadata": {
        "colab": {
          "base_uri": "https://localhost:8080/"
        },
        "id": "rafExLiuxFnN",
        "outputId": "f947e4ba-481c-4ea1-9028-336a5e45e468"
      },
      "execution_count": null,
      "outputs": [
        {
          "output_type": "stream",
          "name": "stdout",
          "text": [
            "   Country   Age   Salary Purchased\n",
            "0   France  44.0  72000.0        No\n",
            "1    Spain  27.0  48000.0       Yes\n",
            "2  Germany  30.0  54000.0        No\n",
            "3    Spain  38.0  61000.0        No\n",
            "4  Germany  40.0      NaN       Yes\n",
            "5   France  35.0  58000.0       Yes\n",
            "6    Spain   NaN  52000.0        No\n",
            "7   France  48.0  79000.0       Yes\n",
            "8  Germany  50.0  83000.0        No\n",
            "9   France  37.0  67000.0       Yes\n"
          ]
        }
      ]
    },
    {
      "cell_type": "code",
      "source": [
        "#Accessing the column by column name\n",
        "print('The Country in above dataframe are:\\n', df_csv['Country']) #Extracting Country column from above dataframe.\n",
        "print('The Age in above dataframe are:\\n', df_csv['Age']) #Extracting Age column from above dataframe.\n",
        "print('The Salary in above dataframe are:\\n', df_csv['Salary']) #Extracting Salary column from above dataframe.\n",
        "print('The Purchased in above dataframe are:\\n', df_csv['Purchased']) #Extracting Purchased column from above dataframe."
      ],
      "metadata": {
        "colab": {
          "base_uri": "https://localhost:8080/"
        },
        "id": "pW94jjo2xG5o",
        "outputId": "4a4c4ca0-8958-47ee-8957-6e21257e11e7"
      },
      "execution_count": null,
      "outputs": [
        {
          "output_type": "stream",
          "name": "stdout",
          "text": [
            "The Country in above dataframe are:\n",
            " 0     France\n",
            "1      Spain\n",
            "2    Germany\n",
            "3      Spain\n",
            "4    Germany\n",
            "5     France\n",
            "6      Spain\n",
            "7     France\n",
            "8    Germany\n",
            "9     France\n",
            "Name: Country, dtype: object\n",
            "The Age in above dataframe are:\n",
            " 0    44.0\n",
            "1    27.0\n",
            "2    30.0\n",
            "3    38.0\n",
            "4    40.0\n",
            "5    35.0\n",
            "6     NaN\n",
            "7    48.0\n",
            "8    50.0\n",
            "9    37.0\n",
            "Name: Age, dtype: float64\n",
            "The Salary in above dataframe are:\n",
            " 0    72000.0\n",
            "1    48000.0\n",
            "2    54000.0\n",
            "3    61000.0\n",
            "4        NaN\n",
            "5    58000.0\n",
            "6    52000.0\n",
            "7    79000.0\n",
            "8    83000.0\n",
            "9    67000.0\n",
            "Name: Salary, dtype: float64\n",
            "The Purchased in above dataframe are:\n",
            " 0     No\n",
            "1    Yes\n",
            "2     No\n",
            "3     No\n",
            "4    Yes\n",
            "5    Yes\n",
            "6     No\n",
            "7    Yes\n",
            "8     No\n",
            "9    Yes\n",
            "Name: Purchased, dtype: object\n"
          ]
        }
      ]
    },
    {
      "cell_type": "code",
      "source": [
        "#Accessing multiple column by column name using double [[]]\n",
        "print(df_csv[['Country','Salary']]) #Here we are using double [[]] to exract 2 columns form above dataframe."
      ],
      "metadata": {
        "colab": {
          "base_uri": "https://localhost:8080/"
        },
        "id": "caE-U9GdxQy6",
        "outputId": "16a9b76d-04c7-465b-ac29-aaa288ff6a6a"
      },
      "execution_count": null,
      "outputs": [
        {
          "output_type": "stream",
          "name": "stdout",
          "text": [
            "   Country   Salary\n",
            "0   France  72000.0\n",
            "1    Spain  48000.0\n",
            "2  Germany  54000.0\n",
            "3    Spain  61000.0\n",
            "4  Germany      NaN\n",
            "5   France  58000.0\n",
            "6    Spain  52000.0\n",
            "7   France  79000.0\n",
            "8  Germany  83000.0\n",
            "9   France  67000.0\n"
          ]
        }
      ]
    },
    {
      "cell_type": "code",
      "source": [
        "# Accessing a specific row by index\n",
        "print(df_csv)\n",
        "print('\\n\\n',df_csv.iloc[1]) #Using .iloc[] we access all the elements of all the row and column which is in that particular indexing."
      ],
      "metadata": {
        "colab": {
          "base_uri": "https://localhost:8080/"
        },
        "id": "fr7lsSrqxS9V",
        "outputId": "96ae8cd8-7061-4b90-be46-1aadffa07a30"
      },
      "execution_count": null,
      "outputs": [
        {
          "output_type": "stream",
          "name": "stdout",
          "text": [
            "   Country   Age   Salary Purchased\n",
            "0   France  44.0  72000.0        No\n",
            "1    Spain  27.0  48000.0       Yes\n",
            "2  Germany  30.0  54000.0        No\n",
            "3    Spain  38.0  61000.0        No\n",
            "4  Germany  40.0      NaN       Yes\n",
            "5   France  35.0  58000.0       Yes\n",
            "6    Spain   NaN  52000.0        No\n",
            "7   France  48.0  79000.0       Yes\n",
            "8  Germany  50.0  83000.0        No\n",
            "9   France  37.0  67000.0       Yes\n",
            "\n",
            "\n",
            " Country        Spain\n",
            "Age             27.0\n",
            "Salary       48000.0\n",
            "Purchased        Yes\n",
            "Name: 1, dtype: object\n"
          ]
        }
      ]
    },
    {
      "cell_type": "code",
      "source": [
        "#Accessing rows based on condition\n",
        "print(df_csv[df_csv['Salary'] > 60000]) #Extracting rows whose salary is greater then 60,000"
      ],
      "metadata": {
        "colab": {
          "base_uri": "https://localhost:8080/"
        },
        "id": "XW3WF9tYxUWP",
        "outputId": "e14a1132-edc8-451e-fbd1-dc3697932c93"
      },
      "execution_count": null,
      "outputs": [
        {
          "output_type": "stream",
          "name": "stdout",
          "text": [
            "   Country   Age   Salary Purchased\n",
            "0   France  44.0  72000.0        No\n",
            "3    Spain  38.0  61000.0        No\n",
            "7   France  48.0  79000.0       Yes\n",
            "8  Germany  50.0  83000.0        No\n",
            "9   France  37.0  67000.0       Yes\n"
          ]
        }
      ]
    },
    {
      "cell_type": "code",
      "source": [
        "# Accessing a single cell by label using .at[]\n",
        "print(df_csv.at[7, 'Salary']) #Using .at[] we are able to extract the indexing element under any defined columns"
      ],
      "metadata": {
        "colab": {
          "base_uri": "https://localhost:8080/"
        },
        "id": "hHNlcHEoxV4V",
        "outputId": "709facfb-6db6-4781-c526-5520fee7da56"
      },
      "execution_count": null,
      "outputs": [
        {
          "output_type": "stream",
          "name": "stdout",
          "text": [
            "79000.0\n"
          ]
        }
      ]
    },
    {
      "cell_type": "code",
      "source": [
        "# Accessing a single cell by position using .iat[]\n",
        "print(df_csv)\n",
        "print(df_csv.iat[7,2]) #Accessing the element which is in 7th Row and 2nd Column."
      ],
      "metadata": {
        "colab": {
          "base_uri": "https://localhost:8080/"
        },
        "id": "kgjOIFVVxXTl",
        "outputId": "ca52c420-6e3e-4056-da3d-23b202dfe7a7"
      },
      "execution_count": null,
      "outputs": [
        {
          "output_type": "stream",
          "name": "stdout",
          "text": [
            "   Country   Age   Salary Purchased\n",
            "0   France  44.0  72000.0        No\n",
            "1    Spain  27.0  48000.0       Yes\n",
            "2  Germany  30.0  54000.0        No\n",
            "3    Spain  38.0  61000.0        No\n",
            "4  Germany  40.0      NaN       Yes\n",
            "5   France  35.0  58000.0       Yes\n",
            "6    Spain   NaN  52000.0        No\n",
            "7   France  48.0  79000.0       Yes\n",
            "8  Germany  50.0  83000.0        No\n",
            "9   France  37.0  67000.0       Yes\n",
            "79000.0\n"
          ]
        }
      ]
    },
    {
      "cell_type": "code",
      "source": [
        "print(df_csv.loc[2]) #Extracting element with 2nd Row and 2nd column."
      ],
      "metadata": {
        "colab": {
          "base_uri": "https://localhost:8080/"
        },
        "id": "_lQtRctaxYTV",
        "outputId": "1922cd87-7fef-438c-b682-4d023f13c7ae"
      },
      "execution_count": null,
      "outputs": [
        {
          "output_type": "stream",
          "name": "stdout",
          "text": [
            "Country      Germany\n",
            "Age             30.0\n",
            "Salary       54000.0\n",
            "Purchased         No\n",
            "Name: 2, dtype: object\n"
          ]
        }
      ]
    },
    {
      "cell_type": "code",
      "source": [],
      "metadata": {
        "id": "vZYtB9MUxaK1"
      },
      "execution_count": null,
      "outputs": []
    }
  ]
}